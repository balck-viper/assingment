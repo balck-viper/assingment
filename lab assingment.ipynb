{
 "cells": [
  {
   "cell_type": "markdown",
   "id": "c3a3552b-c617-4a75-8c7f-cc18f6da2fb7",
   "metadata": {},
   "source": [
    "# My Jupyter Notebook on IBM Watson Studio"
   ]
  },
  {
   "cell_type": "markdown",
   "id": "e6ab6961-dcb4-4f86-b628-37158fe78e41",
   "metadata": {},
   "source": [
    "**varda misra**\n",
    "data scientist."
   ]
  },
  {
   "cell_type": "markdown",
   "id": "58481abe-ee0f-4f38-8f21-45500478a118",
   "metadata": {},
   "source": [
    "*i am interested in data science because every data set is a challenge and an opportunity to learn something new\n",
    "and i like solving problems and maths* ."
   ]
  },
  {
   "cell_type": "markdown",
   "id": "53065890-f487-44d0-aa86-6f17892d5099",
   "metadata": {},
   "source": [
    "### the code takes your name and prints hi your name to you"
   ]
  },
  {
   "cell_type": "code",
   "execution_count": 5,
   "id": "748d87c7-1f7e-4e54-a3c3-251847456808",
   "metadata": {},
   "outputs": [
    {
     "name": "stdin",
     "output_type": "stream",
     "text": [
      " varda\n"
     ]
    },
    {
     "name": "stdout",
     "output_type": "stream",
     "text": [
      "hi varda\n"
     ]
    }
   ],
   "source": [
    "name=input()\n",
    "print(\"hi\"+\" \"+ name)"
   ]
  },
  {
   "cell_type": "markdown",
   "id": "84ffa1de-aa39-4582-a0b6-4c64608ea467",
   "metadata": {},
   "source": [
    "---\n",
    "---\n",
    ".cat<br>\n",
    ".dog<br>\n",
    ".rat<br>\n",
    "1.bread<br>\n",
    "2.butter<br>\n",
    "3.jam<br>"
   ]
  },
  {
   "cell_type": "code",
   "execution_count": null,
   "id": "a9de9738-a05e-4ab0-979c-eb36e9806bd6",
   "metadata": {},
   "outputs": [],
   "source": []
  }
 ],
 "metadata": {
  "kernelspec": {
   "display_name": "Python",
   "language": "python",
   "name": "conda-env-python-py"
  },
  "language_info": {
   "codemirror_mode": {
    "name": "ipython",
    "version": 3
   },
   "file_extension": ".py",
   "mimetype": "text/x-python",
   "name": "python",
   "nbconvert_exporter": "python",
   "pygments_lexer": "ipython3",
   "version": "3.7.12"
  }
 },
 "nbformat": 4,
 "nbformat_minor": 5
}
