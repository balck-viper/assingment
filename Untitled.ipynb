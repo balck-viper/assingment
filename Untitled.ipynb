{
 "cells": [
  {
   "cell_type": "markdown",
   "id": "2aa1ce9c-9234-4dc4-ba62-e57587314367",
   "metadata": {},
   "source": [
    "# data science tools and ecosystem"
   ]
  },
  {
   "cell_type": "markdown",
   "id": "bba1c233-ded5-4f2b-8f75-99452f556dc1",
   "metadata": {},
   "source": [
    "in this notebook,data science and tools are summearized"
   ]
  },
  {
   "cell_type": "markdown",
   "id": "6e7d340e-844a-4add-a3f6-43ba90648721",
   "metadata": {},
   "source": [
    "some of the popular languages that data scientist use are:<br>\n",
    "1.python<br>\n",
    "2.R<br>\n",
    "3.julia<br>\n",
    "4.scala<br>\n",
    "5.SQL<br>"
   ]
  },
  {
   "cell_type": "markdown",
   "id": "f8100726-2c17-4358-bf1f-a65a3c5c2030",
   "metadata": {},
   "source": [
    "some of the commonly used data science libraries:<br>\n",
    "1.numpy<br>\n",
    "2.pandas<br>\n",
    "3.matplotlib<br>\n",
    "4.seaborn<br>"
   ]
  },
  {
   "cell_type": "markdown",
   "id": "9af73938-54cd-4b8e-9578-612781a515c2",
   "metadata": {},
   "source": [
    " |data science tools|\n",
    " |:-----------------|\n",
    " |anaconda|\n",
    " |R studio|\n",
    " |zepplin|\n",
    " |juypter notebooks|\n",
    " \n",
    " "
   ]
  },
  {
   "cell_type": "code",
   "execution_count": 1,
   "id": "875695a6-72ba-4f5a-9a84-6e7b37c6a02c",
   "metadata": {},
   "outputs": [
    {
     "data": {
      "text/plain": [
       "11"
      ]
     },
     "execution_count": 1,
     "metadata": {},
     "output_type": "execute_result"
    }
   ],
   "source": [
    "#this is a simple arthematic expression which muptiplies and then add integers\n",
    "(2*3)+5"
   ]
  },
  {
   "cell_type": "code",
   "execution_count": 3,
   "id": "be01c8a2-b819-4faf-90fa-0e7886119e1a",
   "metadata": {},
   "outputs": [
    {
     "data": {
      "text/plain": [
       "3.3333333333333335"
      ]
     },
     "execution_count": 3,
     "metadata": {},
     "output_type": "execute_result"
    }
   ],
   "source": [
    "#this converts 200 minuyes to hours by dividing by 60\n",
    "200/60"
   ]
  },
  {
   "cell_type": "markdown",
   "id": "5ac0551b-37ac-41b8-91fc-a677bbcf800d",
   "metadata": {},
   "source": [
    "**objectives :** <br>\n",
    ".add comments to code cell<br>\n",
    ".create markdown cells<br>\n",
    ".add ordered and unordered lists to markdown cells<br>\n",
    ".format content of markdown cells with headings style"
   ]
  },
  {
   "cell_type": "markdown",
   "id": "568037fb-4a34-4991-834f-a1299d7e8015",
   "metadata": {},
   "source": [
    "## author(s)\n",
    "varda misra\n"
   ]
  }
 ],
 "metadata": {
  "kernelspec": {
   "display_name": "Python",
   "language": "python",
   "name": "conda-env-python-py"
  },
  "language_info": {
   "codemirror_mode": {
    "name": "ipython",
    "version": 3
   },
   "file_extension": ".py",
   "mimetype": "text/x-python",
   "name": "python",
   "nbconvert_exporter": "python",
   "pygments_lexer": "ipython3",
   "version": "3.7.12"
  }
 },
 "nbformat": 4,
 "nbformat_minor": 5
}
