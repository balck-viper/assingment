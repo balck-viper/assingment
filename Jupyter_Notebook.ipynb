{
 "cells": [
  {
   "cell_type": "markdown",
   "metadata": {},
   "source": [
    "<center>\n",
    "    <img src=\"https://cf-courses-data.s3.us.cloud-object-storage.appdomain.cloud/IBMDeveloperSkillsNetwork-DS0105EN-SkillsNetwork/labs/Module2/images/SN_web_lightmode.png\" width=\"300\" alt=\"cognitiveclass.ai logo\">\n",
    "</center>\n"
   ]
  },
  {
   "cell_type": "markdown",
   "metadata": {},
   "source": [
    "#### Add your code below following the instructions given in the course\n"
   ]
  },
  {
   "cell_type": "markdown",
   "metadata": {},
   "source": [
    "<a href=\"https://dataplatform.cloud.ibm.com/gallery\">IBM Cloud Gallery</a> \n"
   ]
  },
  {
   "cell_type": "markdown",
   "metadata": {},
   "source": [
    "peer assingment"
   ]
  },
  {
   "cell_type": "markdown",
   "metadata": {},
   "source": [
    "this notebook contains the excersie in peer garde assingmnet\n"
   ]
  },
  {
   "cell_type": "markdown",
   "metadata": {},
   "source": [
    "1.python<br>\n",
    "2.R<br>\n",
    "3.julia<br>\n",
    "4.sacla<br>"
   ]
  },
  {
   "cell_type": "markdown",
   "metadata": {},
   "source": [
    "1.numpy<br>\n",
    "2.matplotlib<br>\n",
    "3.pandas<br>\n",
    "4.seaborn<br>"
   ]
  },
  {
   "cell_type": "markdown",
   "metadata": {},
   "source": [
    "1.watson studio<br>\n",
    "2.juypter lab<br>\n",
    "3.R studio<br>\n",
    "4.IBM SPSS Modeler<br>"
   ]
  },
  {
   "cell_type": "markdown",
   "metadata": {},
   "source": [
    "### arthematic expression\n",
    "1.**add(+)** : adds two numbers eg: 1 **+** 1=2<br>\n",
    "2.**subtract(-)** : gets the difference between two numbers eg: 2 **-** 1=1<br>\n",
    "3.**multiply(*)** : multiplies 2 numbers eg: 2*8=16<br>\n",
    "4.**division(/)** : divdes 2 number eg : 4/2=2<br>"
   ]
  },
  {
   "cell_type": "code",
   "execution_count": 1,
   "metadata": {},
   "outputs": [
    {
     "name": "stdin",
     "output_type": "stream",
     "text": [
      " 21\n",
      " 34\n"
     ]
    },
    {
     "name": "stdout",
     "output_type": "stream",
     "text": [
      "55\n",
      "714\n"
     ]
    }
   ],
   "source": [
    "num_1=int(input())\n",
    "num_2=int(input())\n",
    "add=num_1+num_2\n",
    "mul=num_1*num_2\n",
    "print(add)\n",
    "print(mul)"
   ]
  },
  {
   "cell_type": "code",
   "execution_count": 5,
   "metadata": {},
   "outputs": [
    {
     "name": "stdin",
     "output_type": "stream",
     "text": [
      " 150\n"
     ]
    },
    {
     "name": "stdout",
     "output_type": "stream",
     "text": [
      "2:30\n"
     ]
    }
   ],
   "source": [
    "num=int(input())\n",
    "hours=num//60\n",
    "mins=num%60\n",
    "print(str(hours)+\":\"+str(mins))\n"
   ]
  },
  {
   "cell_type": "markdown",
   "metadata": {},
   "source": [
    ".to create a heading<br>\n",
    ".to make markdown cell<br>\n",
    ".to create juypter notebook<br>"
   ]
  },
  {
   "cell_type": "markdown",
   "metadata": {},
   "source": [
    "### varda "
   ]
  }
 ],
 "metadata": {
  "kernelspec": {
   "display_name": "Python",
   "language": "python",
   "name": "conda-env-python-py"
  },
  "language_info": {
   "codemirror_mode": {
    "name": "ipython",
    "version": 3
   },
   "file_extension": ".py",
   "mimetype": "text/x-python",
   "name": "python",
   "nbconvert_exporter": "python",
   "pygments_lexer": "ipython3",
   "version": "3.7.12"
  }
 },
 "nbformat": 4,
 "nbformat_minor": 4
}
